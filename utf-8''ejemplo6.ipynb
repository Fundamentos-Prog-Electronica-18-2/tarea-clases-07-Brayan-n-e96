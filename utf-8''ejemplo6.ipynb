{
  "cells": [
    {
      "metadata": {
        "trusted": true
      },
      "cell_type": "code",
      "source": "\"\"\" un programa  que ingre sla opcion 1 \npresentar la tabla de mulktiplicar \nsi eingresa  2 prensnetar la de sumar del numero que ongreso el usuario \nsi ingresa la opcion diferente  presentar la opcion es incorrecta \n",
      "execution_count": null,
      "outputs": []
    },
    {
      "metadata": {
        "trusted": true
      },
      "cell_type": "code",
      "source": "opcion = 0\ncontador =1\nlimite = 100\nnumero = 7\noperacion = 0",
      "execution_count": 25,
      "outputs": []
    },
    {
      "metadata": {
        "trusted": true
      },
      "cell_type": "code",
      "source": "opcion = input (\"ingrese una opcion:\\n\")\nopcion = int (opcion)\nnumero = input (\"ingrese un numero para hacer la operacion:\\n\")\nnumero = int(numero)",
      "execution_count": 26,
      "outputs": [
        {
          "output_type": "stream",
          "name": "stdout",
          "text": "ingrese una opcion:\n2\ningrese un numero para hacer la operacion:\n5\n"
        }
      ]
    },
    {
      "metadata": {
        "trusted": true
      },
      "cell_type": "code",
      "source": "if opcion >= 1: \n      while contador <= limite:\n        operacion = numero * contador\n        cadena_presentar = str(numero) + \" * \" + str(contador)+ \" = \"+ str(operacion)\n        print (cadena_presentar)\n        contador = contador + 1\nelse:    \n    if opcion <=2:\n        while contador <= limite:\n            operacion = numero + contador\n            cadena_presentar = str(numero) + \" + \" + str(contador)+ \" = \"+ str(operacion)\n            print (cadena_presentar)\n            contador = contador + 1\n    else:\n        print(\"usted a ingresadi una cantidad incioecta \")\n",
      "execution_count": 27,
      "outputs": [
        {
          "output_type": "stream",
          "text": "5 * 1 = 5\n5 * 2 = 10\n5 * 3 = 15\n5 * 4 = 20\n5 * 5 = 25\n5 * 6 = 30\n5 * 7 = 35\n5 * 8 = 40\n5 * 9 = 45\n5 * 10 = 50\n5 * 11 = 55\n5 * 12 = 60\n5 * 13 = 65\n5 * 14 = 70\n5 * 15 = 75\n5 * 16 = 80\n5 * 17 = 85\n5 * 18 = 90\n5 * 19 = 95\n5 * 20 = 100\n5 * 21 = 105\n5 * 22 = 110\n5 * 23 = 115\n5 * 24 = 120\n5 * 25 = 125\n5 * 26 = 130\n5 * 27 = 135\n5 * 28 = 140\n5 * 29 = 145\n5 * 30 = 150\n5 * 31 = 155\n5 * 32 = 160\n5 * 33 = 165\n5 * 34 = 170\n5 * 35 = 175\n5 * 36 = 180\n5 * 37 = 185\n5 * 38 = 190\n5 * 39 = 195\n5 * 40 = 200\n5 * 41 = 205\n5 * 42 = 210\n5 * 43 = 215\n5 * 44 = 220\n5 * 45 = 225\n5 * 46 = 230\n5 * 47 = 235\n5 * 48 = 240\n5 * 49 = 245\n5 * 50 = 250\n5 * 51 = 255\n5 * 52 = 260\n5 * 53 = 265\n5 * 54 = 270\n5 * 55 = 275\n5 * 56 = 280\n5 * 57 = 285\n5 * 58 = 290\n5 * 59 = 295\n5 * 60 = 300\n5 * 61 = 305\n5 * 62 = 310\n5 * 63 = 315\n5 * 64 = 320\n5 * 65 = 325\n5 * 66 = 330\n5 * 67 = 335\n5 * 68 = 340\n5 * 69 = 345\n5 * 70 = 350\n5 * 71 = 355\n5 * 72 = 360\n5 * 73 = 365\n5 * 74 = 370\n5 * 75 = 375\n5 * 76 = 380\n5 * 77 = 385\n5 * 78 = 390\n5 * 79 = 395\n5 * 80 = 400\n5 * 81 = 405\n5 * 82 = 410\n5 * 83 = 415\n5 * 84 = 420\n5 * 85 = 425\n5 * 86 = 430\n5 * 87 = 435\n5 * 88 = 440\n5 * 89 = 445\n5 * 90 = 450\n5 * 91 = 455\n5 * 92 = 460\n5 * 93 = 465\n5 * 94 = 470\n5 * 95 = 475\n5 * 96 = 480\n5 * 97 = 485\n5 * 98 = 490\n5 * 99 = 495\n5 * 100 = 500\n",
          "name": "stdout"
        }
      ]
    },
    {
      "metadata": {
        "trusted": true
      },
      "cell_type": "code",
      "source": "",
      "execution_count": null,
      "outputs": []
    },
    {
      "metadata": {
        "trusted": true
      },
      "cell_type": "code",
      "source": "",
      "execution_count": null,
      "outputs": []
    },
    {
      "metadata": {
        "trusted": true
      },
      "cell_type": "code",
      "source": "",
      "execution_count": null,
      "outputs": []
    }
  ],
  "metadata": {
    "kernelspec": {
      "name": "python36",
      "display_name": "Python 3.6",
      "language": "python"
    },
    "language_info": {
      "mimetype": "text/x-python",
      "nbconvert_exporter": "python",
      "name": "python",
      "pygments_lexer": "ipython3",
      "version": "3.6.6",
      "file_extension": ".py",
      "codemirror_mode": {
        "version": 3,
        "name": "ipython"
      }
    }
  },
  "nbformat": 4,
  "nbformat_minor": 2
}