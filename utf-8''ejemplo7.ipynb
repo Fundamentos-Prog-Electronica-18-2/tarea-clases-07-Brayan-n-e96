{
  "cells": [
    {
      "metadata": {
        "trusted": true
      },
      "cell_type": "code",
      "source": "\"\"\" un programa que presentar el promedio de estatura de un conjunto de estudiantes, considerar\nEl usuario pregunta cuanteas estaturas requiere ingresar \nAl funal se debe prsentar el promedio de las estaturas previamente\ningresados \n",
      "execution_count": 3,
      "outputs": [
        {
          "output_type": "error",
          "ename": "SyntaxError",
          "evalue": "EOF while scanning triple-quoted string literal (<ipython-input-3-391bb0ae4fac>, line 4)",
          "traceback": [
            "\u001b[0;36m  File \u001b[0;32m\"<ipython-input-3-391bb0ae4fac>\"\u001b[0;36m, line \u001b[0;32m4\u001b[0m\n\u001b[0;31m    ingresados\u001b[0m\n\u001b[0m               \n^\u001b[0m\n\u001b[0;31mSyntaxError\u001b[0m\u001b[0;31m:\u001b[0m EOF while scanning triple-quoted string literal\n"
          ]
        }
      ]
    },
    {
      "metadata": {
        "trusted": true
      },
      "cell_type": "code",
      "source": "suma_estaturas = 0\npreomedio  =0\nlimite_estaturas= 10\ncontador = 1\nlimite_estaturas = input (\"ingrese el numero de staturas el desarrollo \")\nlimite_estaturas = float(limite_estaturas)",
      "execution_count": 38,
      "outputs": [
        {
          "output_type": "stream",
          "name": "stdout",
          "text": "ingrese el numero de staturas el desarrollo 3\n"
        }
      ]
    },
    {
      "metadata": {
        "trusted": true
      },
      "cell_type": "code",
      "source": "while contador <= limite_estaturas:\n    estaturas = input(\"ingrese un estatura\")\n    estaturas = float (estaturas)\n    contador = contador +1\n    suma_estaturas = suma_estaturas + estaturas",
      "execution_count": 39,
      "outputs": [
        {
          "output_type": "stream",
          "name": "stdout",
          "text": "ingrese un estatura1\ningrese un estatura2\ningrese un estatura3\n"
        }
      ]
    },
    {
      "metadata": {
        "trusted": true
      },
      "cell_type": "code",
      "source": "suma = suma_estaturas\nprint (suma)\n",
      "execution_count": 40,
      "outputs": [
        {
          "output_type": "stream",
          "text": "6.0\n",
          "name": "stdout"
        }
      ]
    },
    {
      "metadata": {
        "trusted": true
      },
      "cell_type": "code",
      "source": "promedio = suma_estaturas/estaturas\nprint(promedio )",
      "execution_count": 41,
      "outputs": [
        {
          "output_type": "stream",
          "text": "2.0\n",
          "name": "stdout"
        }
      ]
    },
    {
      "metadata": {
        "trusted": true
      },
      "cell_type": "code",
      "source": "",
      "execution_count": null,
      "outputs": []
    },
    {
      "metadata": {
        "trusted": true
      },
      "cell_type": "code",
      "source": "",
      "execution_count": null,
      "outputs": []
    }
  ],
  "metadata": {
    "kernelspec": {
      "name": "python36",
      "display_name": "Python 3.6",
      "language": "python"
    },
    "language_info": {
      "mimetype": "text/x-python",
      "nbconvert_exporter": "python",
      "name": "python",
      "pygments_lexer": "ipython3",
      "version": "3.6.6",
      "file_extension": ".py",
      "codemirror_mode": {
        "version": 3,
        "name": "ipython"
      }
    }
  },
  "nbformat": 4,
  "nbformat_minor": 2
}